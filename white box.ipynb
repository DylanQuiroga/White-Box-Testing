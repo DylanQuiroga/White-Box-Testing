{
 "cells": [
  {
   "cell_type": "markdown",
   "metadata": {},
   "source": [
    "# Pruebas de Caja Blanca (White Box Testing)\n",
    "\n",
    "Las pruebas de caja blanca, también conocidas como pruebas estructurales o pruebas de caja clara, son un tipo de pruebas que se centran en la verificación del flujo interno del programa. A diferencia de las pruebas de caja negra (Black Box Testing), que se centran en la funcionalidad desde la perspectiva del usuario sin conocer la estructura interna del código, las pruebas de caja blanca implican el conocimiento del código fuente, su estructura y la logica de los algoritmos que están implementados.\n",
    "\n",
    "\n",
    "\n",
    "<div style=\"text-align: center;\">\n",
    "    <img src=\"image.jpg\">\n",
    "    <p>De izquierda a derecha, ejemplo visual de caja negra y caja blanca</p>\n",
    "</div>\n",
    "\n",
    "## Caracteristicas:\n",
    "\n",
    "<ul>\n",
    "<li>Conocimiento del codigo: Los encargados de las pruebas deben tener conocimiento del código fuente y la estructura del software</li><br>\n",
    "<li>Cobertura del código: Asegurar que la mayor parte del código sea ejecutada y probada</li><br>\n",
    "<li>Tipos de pruebas: Se deben hacer pruebas de el flujo de control, flujo de datos, pruebas de condiciones, pruebas en bucles y pruebas en los caminos básicos</li><br>\n",
    "<li>Detección de errores: Son útiles para detectar errores de lógica, diseño, flujo del programa y de la seguridad</li>\n",
    "</ul>\n",
    "\n",
    "## Ventajas:\n",
    "<ul>\n",
    "<li>Capacidad de detectar errores ocultos: Al conocer su estructura interna se pueden identificar errores que no se detectan en el exterior</li><br>\n",
    "<li>Optimización: Permite identificar secciones de código que pueden ser optimizadas</li><br>\n",
    "<li>Seguridad: Util para encontrar vulnerabilidades de seguridad en el código</li><br>\n",
    "</ul>\n",
    "\n",
    "## Desventajas: \n",
    "<ul>\n",
    "<li>Complejidad: Requiere un fuerte conocimiento del código del programa</li><br>\n",
    "<li>Tiempo y recursos: Si lo comparamos con las pruebas de caja negra, las pruebas de caja blanca tienden a ser más costosas</li><br>\n",
    "</ul>\n",
    "\n",
    "## Tipos de pruebas\n",
    "<ul>\n",
    "<li>Pruebas unitarias: Diseñadas para garantizar que cada componente o función de una aplicación funcione correctamente</li><br>\n",
    "<li>Pruebas de integración: Se centran en las interfaces entre los distintos componentes dentro de una aplicación.</li><br>\n",
    "<li>Pruebas de regresión: Garantizan que el código siga superando los casos de pruebas existentes después de realizar actualizaciones de funcionalidad o seguridad en una aplicación.</li><br>\n",
    "</ul>\n",
    "\n",
    "## Técnicas de pruebas de caja blanca:\n",
    "\n",
    "<ul>\n",
    "<li>Cobertura de declaración: Verifica que cada línea de código se ejecute al menos una vez</li><br>\n",
    "<li>Cobertura de decisión: Verifica que todas las ramas de las declaraciones, es decir, if-else y switch, se ejecuten</li><br>\n",
    "<li>Cobertura de condición: Verifica que todas las condiciones lógicas se evalúen a verdadero y falso</li><br>\n",
    "<li>Cobertura de camino: Verifica todos los caminos posibles a través del código</li><br>\n",
    "<li>Cobertura de flujo de datos: Verifica cómo se definen, usan y eliminan las variables en el código</li>\n",
    "</ul>"
   ]
  },
  {
   "cell_type": "markdown",
   "metadata": {},
   "source": [
    "# Ejemplo con Python\n",
    "\n",
    "Crearemos una función que determina si un número es par."
   ]
  },
  {
   "cell_type": "code",
   "execution_count": 30,
   "metadata": {},
   "outputs": [],
   "source": [
    "def es_par(n):\n",
    "    \"\"\"Determina si un número es par.\"\"\"\n",
    "    return n % 2 == 0"
   ]
  },
  {
   "cell_type": "markdown",
   "metadata": {},
   "source": [
    "Para realizar los test ocuparemos una función de python llamada \"assert\" el cual verifica que una codición específica sea verdadera, si la condición es falsa, proporcionará un mensaje de error. \n",
    "Veamos el siguiente ejemplo:"
   ]
  },
  {
   "cell_type": "code",
   "execution_count": 31,
   "metadata": {},
   "outputs": [],
   "source": [
    "#assert condición, mensaje opcional\n",
    "assert es_par(2) == True, \"Error: 2 debería ser par\""
   ]
  },
  {
   "cell_type": "markdown",
   "metadata": {},
   "source": [
    "****"
   ]
  },
  {
   "cell_type": "markdown",
   "metadata": {},
   "source": [
    "Como podemos ver, evaluamos la función \"es_par\" con el numero 2 y en el caso de que la función retorne un \"False\" mostrará el mensaje \"Error: 2 debería ser par\", pero en este caso es True por lo que no imprimirá el mensaje.\n",
    "\n",
    "Ahora que ya conocemos como funciona assert, creamos una función el cual realiza pruebas con numeros pares e impares"
   ]
  },
  {
   "cell_type": "code",
   "execution_count": 32,
   "metadata": {},
   "outputs": [],
   "source": [
    "def test_es_par():\n",
    "    # Pruebas para números pares\n",
    "    assert es_par(2) == True, \"Error: 2 debería ser par\"\n",
    "    assert es_par(0) == True, \"Error: 0 debería ser par\"\n",
    "    assert es_par(-4) == True, \"Error: -4 debería ser par\"\n",
    "\n",
    "    # Pruebas para números impares\n",
    "    assert es_par(1) == False, \"Error: 1 no debería ser par\"\n",
    "    assert es_par(-3) == False, \"Error: -3 no debería ser par\"\n",
    "    assert es_par(7) == False, \"Error: 7 no debería ser par\"\n",
    "\n",
    "    print(\"Todas las pruebas pasaron correctamente.\")"
   ]
  },
  {
   "cell_type": "markdown",
   "metadata": {},
   "source": [
    "Ahora si ejecutamos la función \"test_es_par\" debería imprimir \"Todas las pruebas pasaron correctamente.\", dando a entender que no hubieron errores en las condiciones propuestas"
   ]
  },
  {
   "cell_type": "code",
   "execution_count": 33,
   "metadata": {},
   "outputs": [
    {
     "name": "stdout",
     "output_type": "stream",
     "text": [
      "Todas las pruebas pasaron correctamente.\n"
     ]
    }
   ],
   "source": [
    "test_es_par()"
   ]
  },
  {
   "cell_type": "markdown",
   "metadata": {},
   "source": [
    "Pasemos ahora a un ejemplo más complejo creando una clase en Python llamada CuentaBancaria"
   ]
  },
  {
   "cell_type": "code",
   "execution_count": 34,
   "metadata": {},
   "outputs": [],
   "source": [
    "class CuentaBancaria:\n",
    "    def __init__(self, titular, saldo=0):\n",
    "        self.titular = titular\n",
    "        self.saldo = saldo\n",
    "\n",
    "    def depositar(self, cantidad):\n",
    "        if cantidad <= 0:\n",
    "            raise ValueError(\"La cantidad a depositar debe ser mayor que cero\")\n",
    "        self.saldo += cantidad\n",
    "\n",
    "    def retirar(self, cantidad):\n",
    "        if cantidad <= 0:\n",
    "            raise ValueError(\"La cantidad a retirar debe ser mayor que cero\")\n",
    "        if cantidad > self.saldo:\n",
    "            raise ValueError(\"Fondos insuficientes\")\n",
    "        self.saldo -= cantidad\n",
    "\n",
    "    def consultar_saldo(self):\n",
    "        return self.saldo\n"
   ]
  },
  {
   "cell_type": "markdown",
   "metadata": {},
   "source": [
    "Ahora creamos un test en donde el usuario se llama Juan y contiene $1000 en su cuenta"
   ]
  },
  {
   "cell_type": "code",
   "execution_count": 35,
   "metadata": {},
   "outputs": [],
   "source": [
    "def test_cuenta_bancaria():\n",
    "    # Crear una cuenta bancaria con saldo inicial de 1000\n",
    "    cuenta = CuentaBancaria(\"Juan\", 1000)\n",
    "\n",
    "    # Probar el depósito de una cantidad válida\n",
    "    cuenta.depositar(500)\n",
    "    assert cuenta.consultar_saldo() == 1500, \"Error: El saldo debería ser 1500 después del depósito\"\n",
    "\n",
    "    # Probar el depósito de una cantidad no válida\n",
    "    try:\n",
    "        cuenta.depositar(-100)\n",
    "    except ValueError as e:\n",
    "        assert str(e) == \"La cantidad a depositar debe ser mayor que cero\", \"Error: Excepción incorrecta para depósito negativo\"\n",
    "    else:\n",
    "        assert False, \"Error: No se lanzó una excepción para depósito negativo\"\n",
    "\n",
    "    # Probar el retiro de una cantidad válida\n",
    "    cuenta.retirar(200)\n",
    "    assert cuenta.consultar_saldo() == 1300, \"Error: El saldo debería ser 1300 después del retiro\"\n",
    "\n",
    "    # Probar el retiro de una cantidad no válida (negativa)\n",
    "    try:\n",
    "        cuenta.retirar(-100)\n",
    "    except ValueError as e:\n",
    "        assert str(e) == \"La cantidad a retirar debe ser mayor que cero\", \"Error: Excepción incorrecta para retiro negativo\"\n",
    "    else:\n",
    "        assert False, \"Error: No se lanzó una excepción para retiro negativo\"\n",
    "\n",
    "    # Probar el retiro de una cantidad no válida (superior al saldo)\n",
    "    try:\n",
    "        cuenta.retirar(2000)\n",
    "    except ValueError as e:\n",
    "        assert str(e) == \"Fondos insuficientes\", \"Error: Excepción incorrecta para fondos insuficientes\"\n",
    "    else:\n",
    "        assert False, \"Error: No se lanzó una excepción para fondos insuficientes\"\n",
    "\n",
    "    # Probar la consulta de saldo\n",
    "    assert cuenta.consultar_saldo() == 1300, \"Error: El saldo debería ser 1300 después de las operaciones\"\n",
    "\n",
    "    print(\"Todas las pruebas pasaron correctamente.\")"
   ]
  },
  {
   "cell_type": "markdown",
   "metadata": {},
   "source": [
    "Ejecutamos el test"
   ]
  },
  {
   "cell_type": "code",
   "execution_count": 36,
   "metadata": {},
   "outputs": [
    {
     "name": "stdout",
     "output_type": "stream",
     "text": [
      "Todas las pruebas pasaron correctamente.\n"
     ]
    }
   ],
   "source": [
    "test_cuenta_bancaria()"
   ]
  },
  {
   "cell_type": "markdown",
   "metadata": {},
   "source": [
    "Como podemos ver pasaron todas las pruebas, pero esto puede ser realmente perjudicial ya que para construir un buen programa de calidad necesitamos encontrar errores.\n",
    "\n",
    "Que tal si, en vez de retirar dinero, retiramos un 'string'"
   ]
  },
  {
   "cell_type": "code",
   "execution_count": 37,
   "metadata": {},
   "outputs": [
    {
     "ename": "TypeError",
     "evalue": "'<=' not supported between instances of 'str' and 'int'",
     "output_type": "error",
     "traceback": [
      "\u001b[1;31m---------------------------------------------------------------------------\u001b[0m",
      "\u001b[1;31mTypeError\u001b[0m                                 Traceback (most recent call last)",
      "Cell \u001b[1;32mIn[37], line 2\u001b[0m\n\u001b[0;32m      1\u001b[0m cuenta \u001b[38;5;241m=\u001b[39m CuentaBancaria(\u001b[38;5;124m\"\u001b[39m\u001b[38;5;124mMarcelo\u001b[39m\u001b[38;5;124m\"\u001b[39m, \u001b[38;5;241m500\u001b[39m)\n\u001b[1;32m----> 2\u001b[0m \u001b[43mcuenta\u001b[49m\u001b[38;5;241;43m.\u001b[39;49m\u001b[43mretirar\u001b[49m\u001b[43m(\u001b[49m\u001b[38;5;124;43m'\u001b[39;49m\u001b[38;5;124;43mdinero\u001b[39;49m\u001b[38;5;124;43m'\u001b[39;49m\u001b[43m)\u001b[49m\n",
      "Cell \u001b[1;32mIn[34], line 12\u001b[0m, in \u001b[0;36mCuentaBancaria.retirar\u001b[1;34m(self, cantidad)\u001b[0m\n\u001b[0;32m     11\u001b[0m \u001b[38;5;28;01mdef\u001b[39;00m \u001b[38;5;21mretirar\u001b[39m(\u001b[38;5;28mself\u001b[39m, cantidad):\n\u001b[1;32m---> 12\u001b[0m     \u001b[38;5;28;01mif\u001b[39;00m \u001b[43mcantidad\u001b[49m\u001b[43m \u001b[49m\u001b[38;5;241;43m<\u001b[39;49m\u001b[38;5;241;43m=\u001b[39;49m\u001b[43m \u001b[49m\u001b[38;5;241;43m0\u001b[39;49m:\n\u001b[0;32m     13\u001b[0m         \u001b[38;5;28;01mraise\u001b[39;00m \u001b[38;5;167;01mValueError\u001b[39;00m(\u001b[38;5;124m\"\u001b[39m\u001b[38;5;124mLa cantidad a retirar debe ser mayor que cero\u001b[39m\u001b[38;5;124m\"\u001b[39m)\n\u001b[0;32m     14\u001b[0m     \u001b[38;5;28;01mif\u001b[39;00m cantidad \u001b[38;5;241m>\u001b[39m \u001b[38;5;28mself\u001b[39m\u001b[38;5;241m.\u001b[39msaldo:\n",
      "\u001b[1;31mTypeError\u001b[0m: '<=' not supported between instances of 'str' and 'int'"
     ]
    }
   ],
   "source": [
    "cuenta = CuentaBancaria(\"Marcelo\", 500)\n",
    "cuenta.retirar('dinero')"
   ]
  },
  {
   "cell_type": "markdown",
   "metadata": {},
   "source": [
    "Como podemos ver, el metodo 'retirar' de la clase 'CuentaBancaria' solo maneja datos de tipo numérico, si ingresamos una cadena ed texto el programa se cae. Modifiquemos la clase para que sea capaz de soportar una cadena de texto."
   ]
  },
  {
   "cell_type": "code",
   "execution_count": 39,
   "metadata": {},
   "outputs": [],
   "source": [
    "class CuentaBancaria:\n",
    "    def __init__(self, titular, saldo=0):\n",
    "        self.titular = titular\n",
    "        self.saldo = saldo\n",
    "\n",
    "    def depositar(self, cantidad):\n",
    "        if isinstance(cantidad, str): # Se agrega esta línea\n",
    "            raise ValueError(\"Solo se pueden ingresar datos de tipo numérico\")\n",
    "        elif cantidad <= 0:\n",
    "            raise ValueError(\"La cantidad a depositar debe ser mayor que cero\")\n",
    "        self.saldo += cantidad\n",
    "\n",
    "    def retirar(self, cantidad):\n",
    "        if isinstance(cantidad, str): # Se agrega esta línea\n",
    "            raise ValueError(\"Solo se pueden ingresar datos de tipo numérico\")\n",
    "        elif cantidad <= 0:\n",
    "            raise ValueError(\"La cantidad a retirar debe ser mayor que cero\")\n",
    "        elif cantidad > self.saldo:\n",
    "            raise ValueError(\"Fondos insuficientes\")\n",
    "        self.saldo -= cantidad\n",
    "\n",
    "    def consultar_saldo(self):\n",
    "        return self.saldo"
   ]
  },
  {
   "cell_type": "markdown",
   "metadata": {},
   "source": [
    "Ejecutamos la misma prueba"
   ]
  },
  {
   "cell_type": "code",
   "execution_count": 40,
   "metadata": {},
   "outputs": [
    {
     "name": "stdout",
     "output_type": "stream",
     "text": [
      "La prueba pasó correctamente.\n"
     ]
    }
   ],
   "source": [
    "def test1_cuenta_bancaria():\n",
    "    cuenta = CuentaBancaria(\"Marcelo\", 500)\n",
    "\n",
    "    try:\n",
    "        cuenta.depositar('dinero')\n",
    "    except ValueError as e:\n",
    "        assert str(e) == \"Solo se pueden ingresar datos de tipo numérico\", \"Error: Excepción incorrecta para depósito de tipo str\"\n",
    "\n",
    "    print(\"La prueba pasó correctamente.\")\n",
    "\n",
    "test1_cuenta_bancaria()"
   ]
  }
 ],
 "metadata": {
  "kernelspec": {
   "display_name": "Python 3",
   "language": "python",
   "name": "python3"
  },
  "language_info": {
   "codemirror_mode": {
    "name": "ipython",
    "version": 3
   },
   "file_extension": ".py",
   "mimetype": "text/x-python",
   "name": "python",
   "nbconvert_exporter": "python",
   "pygments_lexer": "ipython3",
   "version": "3.11.2"
  }
 },
 "nbformat": 4,
 "nbformat_minor": 2
}
