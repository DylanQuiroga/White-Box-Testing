{
 "cells": [
  {
   "cell_type": "markdown",
   "metadata": {},
   "source": [
    "# Pruebas de Caja Blanca (White Box Testing)\n",
    "\n",
    "Las pruebas de caja blanca, también conocidas como pruebas estructurales o pruebas de caja clara, son un tipo de pruebas que se centran en la verificación del flujo interno del programa. A diferencia de las pruebas de caja negra (Black Box Testing), que se centran en la funcionalidad desde la perspectiva del usuario sin conocer la estructura interna del código, las pruebas de caja blanca implican el conocimiento del código fuente, su estructura y la logica de los algoritmos que están implementados.\n",
    "\n",
    "## Caracteristicas:\n",
    "\n",
    "<ul>\n",
    "<li>Conocimiento del codigo: Los encargados de las pruebas deben tener conocimiento del código fuente y la estructura del software</li><br>\n",
    "<li>Cobertura del código: Asegurar que la mayor parete del código sea ejecutada y probada</li><br>\n",
    "<li>Tipos de pruebas: Se deben hacer pruebas de el flujo de control, flujo de datos, pruebas de condiciones, pruebas en bucles y pruebas en los caminos básicos</li><br>\n",
    "<li>Detección de errores: Son útiles para detectar errores de lógica, diseño, flujo del programa y de la seguridad</li>\n",
    "</ul>\n",
    "\n",
    "## Ventajas:\n",
    "<ul>\n",
    "<li>Capacidad de detectar errores ocultos: Al conocer su estructura interna se pueden identificar errores que no se detectan en el exterior</li><br>\n",
    "<li>Optimización: Permite identificar secciones de código que pueden ser optimizadas</li><br>\n",
    "<li>Seguridad: Util para encontrar vulnerabilidades de seguridad en el código</li><br>\n",
    "</ul>\n",
    "\n",
    "## Desventajas: \n",
    "<ul>\n",
    "<li>Complejidad: Requiere un fuerte conocimiento del código del programa</li><br>\n",
    "<li>Tiempo y recursos: Si lo comparamos con las pruebas de caja negra, las pruebas de caja blanca tienden a ser más costosas</li><br>\n",
    "</ul>\n",
    "\n",
    "## Ejemplos de técnicas de pruebas de caja blanca:\n",
    "\n",
    "<ul>\n",
    "<li>Cobertura de declaración: Verifica que cada línea de código se ejecute al menos una vez</li><br>\n",
    "<li>Cobertura de decisión: Verifica que todas las ramas de las declaraciones, es decir, if-else y switch, se ejecuten</li><br>\n",
    "<li>Cobertura de condición: Verifica que todas las condiciones lógicas se evalúen a verdadero y falso</li><br>\n",
    "<li>Cobertura de camino: Verifica todos los caminos posibles a través del código</li><br>\n",
    "<li>Cobertura de flujo de datos: Verifica cómo se definen, usan y eliminan las variables en el código</li>\n",
    "</ul>"
   ]
  },
  {
   "cell_type": "markdown",
   "metadata": {},
   "source": [
    "# Ejemplo con Python\n",
    "\n",
    "Crearemos una función que determina si un número es par."
   ]
  },
  {
   "cell_type": "code",
   "execution_count": 1,
   "metadata": {},
   "outputs": [],
   "source": [
    "def es_par(n):\n",
    "    \"\"\"Determina si un número es par.\"\"\"\n",
    "    return n % 2 == 0"
   ]
  },
  {
   "cell_type": "markdown",
   "metadata": {},
   "source": [
    "****"
   ]
  },
  {
   "cell_type": "markdown",
   "metadata": {},
   "source": [
    "Creamos una función el cual realiza pruebas con numeros pares e impares"
   ]
  },
  {
   "cell_type": "code",
   "execution_count": 4,
   "metadata": {},
   "outputs": [],
   "source": [
    "def test_es_par():\n",
    "    # Pruebas para números pares\n",
    "    assert es_par(2) == True, \"Error: 2 debería ser par\"\n",
    "    assert es_par(0) == True, \"Error: 0 debería ser par\"\n",
    "    assert es_par(-4) == True, \"Error: -4 debería ser par\"\n",
    "\n",
    "    # Pruebas para números impares\n",
    "    assert es_par(1) == False, \"Error: 1 no debería ser par\"\n",
    "    assert es_par(-3) == False, \"Error: -3 no debería ser par\"\n",
    "    assert es_par(7) == False, \"Error: 7 no debería ser par\"\n",
    "\n",
    "    print(\"Todas las pruebas pasaron correctamente.\")"
   ]
  },
  {
   "cell_type": "markdown",
   "metadata": {},
   "source": [
    "Ahora si ejecutamos la función \"test_es_par\" debería imprimir \"Todas las pruebas pasaron correctamente.\", dando a entender que no hubieron errores en las condiciones propuestas"
   ]
  },
  {
   "cell_type": "code",
   "execution_count": 5,
   "metadata": {},
   "outputs": [
    {
     "name": "stdout",
     "output_type": "stream",
     "text": [
      "Todas las pruebas pasaron correctamente.\n"
     ]
    }
   ],
   "source": [
    "test_es_par()"
   ]
  }
 ],
 "metadata": {
  "kernelspec": {
   "display_name": "Python 3",
   "language": "python",
   "name": "python3"
  },
  "language_info": {
   "codemirror_mode": {
    "name": "ipython",
    "version": 3
   },
   "file_extension": ".py",
   "mimetype": "text/x-python",
   "name": "python",
   "nbconvert_exporter": "python",
   "pygments_lexer": "ipython3",
   "version": "3.11.2"
  }
 },
 "nbformat": 4,
 "nbformat_minor": 2
}
